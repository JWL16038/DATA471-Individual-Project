{
 "cells": [
  {
   "cell_type": "code",
   "execution_count": 1,
   "metadata": {},
   "outputs": [],
   "source": [
    "import pandas as pd\n",
    "import os\n",
    "import matplotlib.pyplot as plt\n",
    "import seaborn as sns\n",
    "import numpy as np\n",
    "from scipy.stats import variation, f_oneway, kruskal\n",
    "from statistics import median\n",
    "from matplotlib import rc"
   ]
  },
  {
   "cell_type": "code",
   "execution_count": 2,
   "metadata": {},
   "outputs": [],
   "source": [
    "# Use the computer modern font for the plots\n",
    "rc('font', **{'family': 'serif', 'serif': ['Computer Modern']})\n",
    "rc('text', usetex=True)\n",
    "custom_params = {\"axes.spines.right\": False, \"axes.spines.top\": False, 'axes.grid' : False}\n",
    "sns.set_theme(style=\"whitegrid\", rc=custom_params, font_scale=1)"
   ]
  },
  {
   "cell_type": "code",
   "execution_count": 3,
   "metadata": {},
   "outputs": [
    {
     "name": "stderr",
     "output_type": "stream",
     "text": [
      "/tmp/ipykernel_80497/2404526448.py:2: DtypeWarning: Columns (1) have mixed types. Specify dtype option on import or set low_memory=False.\n",
      "  df = pd.read_csv(os.path.join(root_dir, \"data/processed/data_cleaned.csv\"))\n"
     ]
    }
   ],
   "source": [
    "root_dir = os.path.dirname(os.getcwd())\n",
    "df = pd.read_csv(os.path.join(root_dir, \"data/processed/data_cleaned.csv\"))"
   ]
  },
  {
   "cell_type": "code",
   "execution_count": 4,
   "metadata": {},
   "outputs": [
    {
     "data": {
      "text/html": [
       "<div>\n",
       "<style scoped>\n",
       "    .dataframe tbody tr th:only-of-type {\n",
       "        vertical-align: middle;\n",
       "    }\n",
       "\n",
       "    .dataframe tbody tr th {\n",
       "        vertical-align: top;\n",
       "    }\n",
       "\n",
       "    .dataframe thead th {\n",
       "        text-align: right;\n",
       "    }\n",
       "</style>\n",
       "<table border=\"1\" class=\"dataframe\">\n",
       "  <thead>\n",
       "    <tr style=\"text-align: right;\">\n",
       "      <th></th>\n",
       "      <th>subject</th>\n",
       "      <th>gender</th>\n",
       "      <th>age</th>\n",
       "      <th>hand</th>\n",
       "      <th>x_coordinate</th>\n",
       "      <th>y_coordinate</th>\n",
       "      <th>timestamp</th>\n",
       "      <th>state</th>\n",
       "      <th>date</th>\n",
       "      <th>azimuth</th>\n",
       "      <th>altitude</th>\n",
       "      <th>pressure</th>\n",
       "      <th>control</th>\n",
       "      <th>session</th>\n",
       "    </tr>\n",
       "  </thead>\n",
       "  <tbody>\n",
       "    <tr>\n",
       "      <th>0</th>\n",
       "      <td>T001</td>\n",
       "      <td>NaN</td>\n",
       "      <td>NaN</td>\n",
       "      <td>R</td>\n",
       "      <td>1493</td>\n",
       "      <td>9752</td>\n",
       "      <td>2098403</td>\n",
       "      <td>1</td>\n",
       "      <td>1970-01-01 12:34:58.403000</td>\n",
       "      <td>1990</td>\n",
       "      <td>720</td>\n",
       "      <td>6</td>\n",
       "      <td>N</td>\n",
       "      <td>u00005s00001_hw00001.svc</td>\n",
       "    </tr>\n",
       "    <tr>\n",
       "      <th>1</th>\n",
       "      <td>T001</td>\n",
       "      <td>NaN</td>\n",
       "      <td>NaN</td>\n",
       "      <td>R</td>\n",
       "      <td>1490</td>\n",
       "      <td>9752</td>\n",
       "      <td>2098411</td>\n",
       "      <td>1</td>\n",
       "      <td>1970-01-01 12:34:58.411000</td>\n",
       "      <td>1990</td>\n",
       "      <td>720</td>\n",
       "      <td>168</td>\n",
       "      <td>N</td>\n",
       "      <td>u00005s00001_hw00001.svc</td>\n",
       "    </tr>\n",
       "    <tr>\n",
       "      <th>2</th>\n",
       "      <td>T001</td>\n",
       "      <td>NaN</td>\n",
       "      <td>NaN</td>\n",
       "      <td>R</td>\n",
       "      <td>1490</td>\n",
       "      <td>9752</td>\n",
       "      <td>2098418</td>\n",
       "      <td>1</td>\n",
       "      <td>1970-01-01 12:34:58.418000</td>\n",
       "      <td>1990</td>\n",
       "      <td>720</td>\n",
       "      <td>328</td>\n",
       "      <td>N</td>\n",
       "      <td>u00005s00001_hw00001.svc</td>\n",
       "    </tr>\n",
       "    <tr>\n",
       "      <th>3</th>\n",
       "      <td>T001</td>\n",
       "      <td>NaN</td>\n",
       "      <td>NaN</td>\n",
       "      <td>R</td>\n",
       "      <td>1490</td>\n",
       "      <td>9752</td>\n",
       "      <td>2098426</td>\n",
       "      <td>1</td>\n",
       "      <td>1970-01-01 12:34:58.426000</td>\n",
       "      <td>1990</td>\n",
       "      <td>720</td>\n",
       "      <td>480</td>\n",
       "      <td>N</td>\n",
       "      <td>u00005s00001_hw00001.svc</td>\n",
       "    </tr>\n",
       "    <tr>\n",
       "      <th>4</th>\n",
       "      <td>T001</td>\n",
       "      <td>NaN</td>\n",
       "      <td>NaN</td>\n",
       "      <td>R</td>\n",
       "      <td>1489</td>\n",
       "      <td>9752</td>\n",
       "      <td>2098433</td>\n",
       "      <td>1</td>\n",
       "      <td>1970-01-01 12:34:58.433000</td>\n",
       "      <td>1990</td>\n",
       "      <td>720</td>\n",
       "      <td>667</td>\n",
       "      <td>N</td>\n",
       "      <td>u00005s00001_hw00001.svc</td>\n",
       "    </tr>\n",
       "    <tr>\n",
       "      <th>5</th>\n",
       "      <td>T001</td>\n",
       "      <td>NaN</td>\n",
       "      <td>NaN</td>\n",
       "      <td>R</td>\n",
       "      <td>1489</td>\n",
       "      <td>9752</td>\n",
       "      <td>2098441</td>\n",
       "      <td>1</td>\n",
       "      <td>1970-01-01 12:34:58.441000</td>\n",
       "      <td>1990</td>\n",
       "      <td>720</td>\n",
       "      <td>791</td>\n",
       "      <td>N</td>\n",
       "      <td>u00005s00001_hw00001.svc</td>\n",
       "    </tr>\n",
       "    <tr>\n",
       "      <th>6</th>\n",
       "      <td>T001</td>\n",
       "      <td>NaN</td>\n",
       "      <td>NaN</td>\n",
       "      <td>R</td>\n",
       "      <td>1489</td>\n",
       "      <td>9752</td>\n",
       "      <td>2098448</td>\n",
       "      <td>1</td>\n",
       "      <td>1970-01-01 12:34:58.448000</td>\n",
       "      <td>2020</td>\n",
       "      <td>720</td>\n",
       "      <td>889</td>\n",
       "      <td>N</td>\n",
       "      <td>u00005s00001_hw00001.svc</td>\n",
       "    </tr>\n",
       "    <tr>\n",
       "      <th>7</th>\n",
       "      <td>T001</td>\n",
       "      <td>NaN</td>\n",
       "      <td>NaN</td>\n",
       "      <td>R</td>\n",
       "      <td>1489</td>\n",
       "      <td>9752</td>\n",
       "      <td>2098456</td>\n",
       "      <td>1</td>\n",
       "      <td>1970-01-01 12:34:58.456000</td>\n",
       "      <td>2020</td>\n",
       "      <td>720</td>\n",
       "      <td>967</td>\n",
       "      <td>N</td>\n",
       "      <td>u00005s00001_hw00001.svc</td>\n",
       "    </tr>\n",
       "    <tr>\n",
       "      <th>8</th>\n",
       "      <td>T001</td>\n",
       "      <td>NaN</td>\n",
       "      <td>NaN</td>\n",
       "      <td>R</td>\n",
       "      <td>1489</td>\n",
       "      <td>9752</td>\n",
       "      <td>2098463</td>\n",
       "      <td>1</td>\n",
       "      <td>1970-01-01 12:34:58.463000</td>\n",
       "      <td>2020</td>\n",
       "      <td>720</td>\n",
       "      <td>1031</td>\n",
       "      <td>N</td>\n",
       "      <td>u00005s00001_hw00001.svc</td>\n",
       "    </tr>\n",
       "    <tr>\n",
       "      <th>9</th>\n",
       "      <td>T001</td>\n",
       "      <td>NaN</td>\n",
       "      <td>NaN</td>\n",
       "      <td>R</td>\n",
       "      <td>1488</td>\n",
       "      <td>9752</td>\n",
       "      <td>2098471</td>\n",
       "      <td>1</td>\n",
       "      <td>1970-01-01 12:34:58.471000</td>\n",
       "      <td>2020</td>\n",
       "      <td>720</td>\n",
       "      <td>1065</td>\n",
       "      <td>N</td>\n",
       "      <td>u00005s00001_hw00001.svc</td>\n",
       "    </tr>\n",
       "  </tbody>\n",
       "</table>\n",
       "</div>"
      ],
      "text/plain": [
       "  subject gender  age hand  x_coordinate  y_coordinate  timestamp  state  \\\n",
       "0    T001    NaN  NaN    R          1493          9752    2098403      1   \n",
       "1    T001    NaN  NaN    R          1490          9752    2098411      1   \n",
       "2    T001    NaN  NaN    R          1490          9752    2098418      1   \n",
       "3    T001    NaN  NaN    R          1490          9752    2098426      1   \n",
       "4    T001    NaN  NaN    R          1489          9752    2098433      1   \n",
       "5    T001    NaN  NaN    R          1489          9752    2098441      1   \n",
       "6    T001    NaN  NaN    R          1489          9752    2098448      1   \n",
       "7    T001    NaN  NaN    R          1489          9752    2098456      1   \n",
       "8    T001    NaN  NaN    R          1489          9752    2098463      1   \n",
       "9    T001    NaN  NaN    R          1488          9752    2098471      1   \n",
       "\n",
       "                         date  azimuth  altitude  pressure control  \\\n",
       "0  1970-01-01 12:34:58.403000     1990       720         6       N   \n",
       "1  1970-01-01 12:34:58.411000     1990       720       168       N   \n",
       "2  1970-01-01 12:34:58.418000     1990       720       328       N   \n",
       "3  1970-01-01 12:34:58.426000     1990       720       480       N   \n",
       "4  1970-01-01 12:34:58.433000     1990       720       667       N   \n",
       "5  1970-01-01 12:34:58.441000     1990       720       791       N   \n",
       "6  1970-01-01 12:34:58.448000     2020       720       889       N   \n",
       "7  1970-01-01 12:34:58.456000     2020       720       967       N   \n",
       "8  1970-01-01 12:34:58.463000     2020       720      1031       N   \n",
       "9  1970-01-01 12:34:58.471000     2020       720      1065       N   \n",
       "\n",
       "                    session  \n",
       "0  u00005s00001_hw00001.svc  \n",
       "1  u00005s00001_hw00001.svc  \n",
       "2  u00005s00001_hw00001.svc  \n",
       "3  u00005s00001_hw00001.svc  \n",
       "4  u00005s00001_hw00001.svc  \n",
       "5  u00005s00001_hw00001.svc  \n",
       "6  u00005s00001_hw00001.svc  \n",
       "7  u00005s00001_hw00001.svc  \n",
       "8  u00005s00001_hw00001.svc  \n",
       "9  u00005s00001_hw00001.svc  "
      ]
     },
     "execution_count": 4,
     "metadata": {},
     "output_type": "execute_result"
    }
   ],
   "source": [
    "df.head(10)"
   ]
  },
  {
   "cell_type": "code",
   "execution_count": 5,
   "metadata": {},
   "outputs": [
    {
     "data": {
      "text/html": [
       "<div>\n",
       "<style scoped>\n",
       "    .dataframe tbody tr th:only-of-type {\n",
       "        vertical-align: middle;\n",
       "    }\n",
       "\n",
       "    .dataframe tbody tr th {\n",
       "        vertical-align: top;\n",
       "    }\n",
       "\n",
       "    .dataframe thead th {\n",
       "        text-align: right;\n",
       "    }\n",
       "</style>\n",
       "<table border=\"1\" class=\"dataframe\">\n",
       "  <thead>\n",
       "    <tr style=\"text-align: right;\">\n",
       "      <th></th>\n",
       "      <th>age</th>\n",
       "      <th>x_coordinate</th>\n",
       "      <th>y_coordinate</th>\n",
       "      <th>timestamp</th>\n",
       "      <th>state</th>\n",
       "      <th>azimuth</th>\n",
       "      <th>altitude</th>\n",
       "      <th>pressure</th>\n",
       "    </tr>\n",
       "  </thead>\n",
       "  <tbody>\n",
       "    <tr>\n",
       "      <th>count</th>\n",
       "      <td>51060.000000</td>\n",
       "      <td>250802.000000</td>\n",
       "      <td>250802.000000</td>\n",
       "      <td>2.508020e+05</td>\n",
       "      <td>250802.000000</td>\n",
       "      <td>250802.000000</td>\n",
       "      <td>250802.000000</td>\n",
       "      <td>250802.000000</td>\n",
       "    </tr>\n",
       "    <tr>\n",
       "      <th>mean</th>\n",
       "      <td>42.698394</td>\n",
       "      <td>3836.949331</td>\n",
       "      <td>6376.095613</td>\n",
       "      <td>1.222163e+11</td>\n",
       "      <td>0.806258</td>\n",
       "      <td>1218.043197</td>\n",
       "      <td>673.766995</td>\n",
       "      <td>958.260943</td>\n",
       "    </tr>\n",
       "    <tr>\n",
       "      <th>std</th>\n",
       "      <td>13.403745</td>\n",
       "      <td>1890.954648</td>\n",
       "      <td>2679.231170</td>\n",
       "      <td>3.871606e+11</td>\n",
       "      <td>0.395230</td>\n",
       "      <td>1000.303596</td>\n",
       "      <td>134.801812</td>\n",
       "      <td>620.309786</td>\n",
       "    </tr>\n",
       "    <tr>\n",
       "      <th>min</th>\n",
       "      <td>22.000000</td>\n",
       "      <td>59.000000</td>\n",
       "      <td>1399.000000</td>\n",
       "      <td>1.264550e+05</td>\n",
       "      <td>0.000000</td>\n",
       "      <td>0.000000</td>\n",
       "      <td>220.000000</td>\n",
       "      <td>0.000000</td>\n",
       "    </tr>\n",
       "    <tr>\n",
       "      <th>25%</th>\n",
       "      <td>32.000000</td>\n",
       "      <td>1770.000000</td>\n",
       "      <td>3820.000000</td>\n",
       "      <td>1.777883e+06</td>\n",
       "      <td>1.000000</td>\n",
       "      <td>340.000000</td>\n",
       "      <td>570.000000</td>\n",
       "      <td>488.000000</td>\n",
       "    </tr>\n",
       "    <tr>\n",
       "      <th>50%</th>\n",
       "      <td>48.000000</td>\n",
       "      <td>4592.000000</td>\n",
       "      <td>6797.000000</td>\n",
       "      <td>2.633750e+06</td>\n",
       "      <td>1.000000</td>\n",
       "      <td>940.000000</td>\n",
       "      <td>690.000000</td>\n",
       "      <td>1067.000000</td>\n",
       "    </tr>\n",
       "    <tr>\n",
       "      <th>75%</th>\n",
       "      <td>52.000000</td>\n",
       "      <td>5411.000000</td>\n",
       "      <td>8593.000000</td>\n",
       "      <td>5.482293e+06</td>\n",
       "      <td>1.000000</td>\n",
       "      <td>1900.000000</td>\n",
       "      <td>770.000000</td>\n",
       "      <td>1369.000000</td>\n",
       "    </tr>\n",
       "    <tr>\n",
       "      <th>max</th>\n",
       "      <td>62.000000</td>\n",
       "      <td>7198.000000</td>\n",
       "      <td>12317.000000</td>\n",
       "      <td>1.363796e+12</td>\n",
       "      <td>1.000000</td>\n",
       "      <td>3590.000000</td>\n",
       "      <td>900.000000</td>\n",
       "      <td>2048.000000</td>\n",
       "    </tr>\n",
       "  </tbody>\n",
       "</table>\n",
       "</div>"
      ],
      "text/plain": [
       "                age   x_coordinate   y_coordinate     timestamp  \\\n",
       "count  51060.000000  250802.000000  250802.000000  2.508020e+05   \n",
       "mean      42.698394    3836.949331    6376.095613  1.222163e+11   \n",
       "std       13.403745    1890.954648    2679.231170  3.871606e+11   \n",
       "min       22.000000      59.000000    1399.000000  1.264550e+05   \n",
       "25%       32.000000    1770.000000    3820.000000  1.777883e+06   \n",
       "50%       48.000000    4592.000000    6797.000000  2.633750e+06   \n",
       "75%       52.000000    5411.000000    8593.000000  5.482293e+06   \n",
       "max       62.000000    7198.000000   12317.000000  1.363796e+12   \n",
       "\n",
       "               state        azimuth       altitude       pressure  \n",
       "count  250802.000000  250802.000000  250802.000000  250802.000000  \n",
       "mean        0.806258    1218.043197     673.766995     958.260943  \n",
       "std         0.395230    1000.303596     134.801812     620.309786  \n",
       "min         0.000000       0.000000     220.000000       0.000000  \n",
       "25%         1.000000     340.000000     570.000000     488.000000  \n",
       "50%         1.000000     940.000000     690.000000    1067.000000  \n",
       "75%         1.000000    1900.000000     770.000000    1369.000000  \n",
       "max         1.000000    3590.000000     900.000000    2048.000000  "
      ]
     },
     "execution_count": 5,
     "metadata": {},
     "output_type": "execute_result"
    }
   ],
   "source": [
    "df.describe()"
   ]
  },
  {
   "cell_type": "code",
   "execution_count": 6,
   "metadata": {},
   "outputs": [
    {
     "name": "stdout",
     "output_type": "stream",
     "text": [
      "<class 'pandas.core.frame.DataFrame'>\n",
      "RangeIndex: 250802 entries, 0 to 250801\n",
      "Data columns (total 14 columns):\n",
      " #   Column        Non-Null Count   Dtype  \n",
      "---  ------        --------------   -----  \n",
      " 0   subject       250802 non-null  object \n",
      " 1   gender        51060 non-null   object \n",
      " 2   age           51060 non-null   float64\n",
      " 3   hand          250802 non-null  object \n",
      " 4   x_coordinate  250802 non-null  int64  \n",
      " 5   y_coordinate  250802 non-null  int64  \n",
      " 6   timestamp     250802 non-null  int64  \n",
      " 7   state         250802 non-null  int64  \n",
      " 8   date          250802 non-null  object \n",
      " 9   azimuth       250802 non-null  int64  \n",
      " 10  altitude      250802 non-null  int64  \n",
      " 11  pressure      250802 non-null  int64  \n",
      " 12  control       250802 non-null  object \n",
      " 13  session       250802 non-null  object \n",
      "dtypes: float64(1), int64(7), object(6)\n",
      "memory usage: 26.8+ MB\n"
     ]
    }
   ],
   "source": [
    "df.info()"
   ]
  },
  {
   "cell_type": "code",
   "execution_count": 7,
   "metadata": {},
   "outputs": [
    {
     "name": "stdout",
     "output_type": "stream",
     "text": [
      "Total number of unique subjects: 32\n",
      "Number of healthy subjects: 10\n",
      "Number of PD subjects: 22\n"
     ]
    }
   ],
   "source": [
    "unique_subjects = df['subject'].drop_duplicates()\n",
    "\n",
    "# Total number of unique subjects\n",
    "num_subjects = unique_subjects.nunique()\n",
    "\n",
    "# Number of healthy subjects (control == 'Y')\n",
    "healthy_subjects = df[df['control'] == 'Y']['subject'].drop_duplicates().nunique()\n",
    "\n",
    "# Number of sick subjects (control == 'N')\n",
    "sick_subjects = df[df['control'] == 'N']['subject'].drop_duplicates().nunique()\n",
    "\n",
    "print(f\"Total number of unique subjects: {num_subjects}\")\n",
    "print(f\"Number of healthy subjects: {healthy_subjects}\")\n",
    "print(f\"Number of PD subjects: {sick_subjects}\")"
   ]
  },
  {
   "cell_type": "code",
   "execution_count": 8,
   "metadata": {},
   "outputs": [
    {
     "name": "stdout",
     "output_type": "stream",
     "text": [
      "There are 2.0 median sessions for control and 5.0 median sessions for non-control in this dataset\n"
     ]
    }
   ],
   "source": [
    "control_subjects = df[(df.control == 'Y')]['subject'].unique()\n",
    "noncontrol_subjects = df[(df.control == 'N')]['subject'].unique()\n",
    "control_sessions = []\n",
    "noncontrol_sessions = []\n",
    "for c in control_subjects:\n",
    "    sessions = len(df[(df.control == 'Y') & (df.subject == c)]['session'].unique())\n",
    "    control_sessions.append(sessions)\n",
    "for c in noncontrol_subjects:\n",
    "    sessions = len(df[(df.control == 'N') & (df.subject == c)]['session'].unique())\n",
    "    noncontrol_sessions.append(sessions)\n",
    "print(f\"There are {median(control_sessions)} median sessions for control and {median(noncontrol_sessions)} median sessions for non-control in this dataset\")"
   ]
  },
  {
   "cell_type": "code",
   "execution_count": 9,
   "metadata": {},
   "outputs": [
    {
     "name": "stdout",
     "output_type": "stream",
     "text": [
      "Subject has 0 missing or zero values\n",
      "Gender has 199742 missing or zero values\n",
      "Age has 199742 missing or zero values\n",
      "Hand has 0 missing or zero values\n",
      "X_coordinate has 0 missing or zero values\n",
      "Y_coordinate has 0 missing or zero values\n",
      "Timestamp has 0 missing or zero values\n",
      "State has 48591 missing or zero values\n",
      "Date has 0 missing or zero values\n",
      "Azimuth has 27385 missing or zero values\n",
      "Altitude has 0 missing or zero values\n",
      "Pressure has 48591 missing or zero values\n",
      "Control has 0 missing or zero values\n",
      "Session has 0 missing or zero values\n"
     ]
    }
   ],
   "source": [
    "for feature in df.select_dtypes(include=[np.number, object]).columns:\n",
    "    # Check for missing, zero, or empty values\n",
    "    missing_count = len(df[df[feature].isin([\"\", \"0\", 0, pd.NA, \" \", np.nan])])\n",
    "    print(f\"{feature.capitalize()} has {missing_count} missing or zero values\")"
   ]
  },
  {
   "cell_type": "code",
   "execution_count": 10,
   "metadata": {},
   "outputs": [
    {
     "data": {
      "text/plain": [
       "(0, 0)"
      ]
     },
     "execution_count": 10,
     "metadata": {},
     "output_type": "execute_result"
    }
   ],
   "source": [
    "df[\"x_coordinate\"].isna().sum(), df[\"y_coordinate\"].isna().sum()"
   ]
  },
  {
   "cell_type": "code",
   "execution_count": 11,
   "metadata": {},
   "outputs": [
    {
     "data": {
      "text/plain": [
       "0"
      ]
     },
     "execution_count": 11,
     "metadata": {},
     "output_type": "execute_result"
    }
   ],
   "source": [
    "len(df[(df[\"altitude\"] == 0) & (df[\"azimuth\"] == 0) & (df[\"pressure\"] == 0)])"
   ]
  },
  {
   "cell_type": "code",
   "execution_count": 12,
   "metadata": {},
   "outputs": [
    {
     "data": {
      "text/plain": [
       "0"
      ]
     },
     "execution_count": 12,
     "metadata": {},
     "output_type": "execute_result"
    }
   ],
   "source": [
    "len(df[(df[\"state\"] == 0) & (df[\"pressure\"] != 0)])"
   ]
  },
  {
   "cell_type": "code",
   "execution_count": 13,
   "metadata": {},
   "outputs": [
    {
     "name": "stdout",
     "output_type": "stream",
     "text": [
      "There are 2 variables which contain an X number of missing (NaN or Null) values: \n",
      "gender    199742\n",
      "age       199742\n"
     ]
    }
   ],
   "source": [
    "missing_no = df.isnull().sum()\n",
    "missing_no = missing_no[missing_no > 0]\n",
    "print(f\"There are {len(missing_no)} variables which contain an X number of missing (NaN or Null) values: \\n{missing_no.to_string()}\")"
   ]
  },
  {
   "cell_type": "code",
   "execution_count": 14,
   "metadata": {},
   "outputs": [
    {
     "name": "stdout",
     "output_type": "stream",
     "text": [
      "gender         79.64%\n",
      "age            79.64%\n"
     ]
    }
   ],
   "source": [
    "for var, num in missing_no.items():\n",
    "    total_no = len(df[f\"{var}\"])\n",
    "    percent = (num / total_no) * 100\n",
    "    print(f\"{var}\\t{round(percent,2)}%\".expandtabs(15))"
   ]
  },
  {
   "cell_type": "code",
   "execution_count": 15,
   "metadata": {},
   "outputs": [
    {
     "name": "stdout",
     "output_type": "stream",
     "text": [
      "There are 0 sessions that have spirals positioned at (0,0)\n"
     ]
    }
   ],
   "source": [
    "filtered_data = df[(df['x_coordinate'] == 0) & (df['y_coordinate'] == 0)]\n",
    "grouped_data = filtered_data.groupby(['subject', 'session']).size()\n",
    "print(f\"There are {len(grouped_data)} sessions that have spirals positioned at (0,0)\")"
   ]
  },
  {
   "cell_type": "code",
   "execution_count": 16,
   "metadata": {},
   "outputs": [],
   "source": [
    "# Parse the x and y coordinates, date and timestamp to the correct formats\n",
    "df['x_coordinate'] = pd.to_numeric(df['x_coordinate'], errors='coerce')\n",
    "df['y_coordinate'] = pd.to_numeric(df['y_coordinate'], errors='coerce')\n",
    "df[\"date\"] = pd.to_datetime(df[\"date\"])\n",
    "df[\"timestamp\"] = df[\"date\"].dt.time.astype(str)"
   ]
  },
  {
   "cell_type": "code",
   "execution_count": 17,
   "metadata": {},
   "outputs": [
    {
     "name": "stdout",
     "output_type": "stream",
     "text": [
      "(250802, 22)\n"
     ]
    },
    {
     "data": {
      "text/html": [
       "<div>\n",
       "<style scoped>\n",
       "    .dataframe tbody tr th:only-of-type {\n",
       "        vertical-align: middle;\n",
       "    }\n",
       "\n",
       "    .dataframe tbody tr th {\n",
       "        vertical-align: top;\n",
       "    }\n",
       "\n",
       "    .dataframe thead th {\n",
       "        text-align: right;\n",
       "    }\n",
       "</style>\n",
       "<table border=\"1\" class=\"dataframe\">\n",
       "  <thead>\n",
       "    <tr style=\"text-align: right;\">\n",
       "      <th></th>\n",
       "      <th>subject</th>\n",
       "      <th>gender</th>\n",
       "      <th>age</th>\n",
       "      <th>hand</th>\n",
       "      <th>x_coordinate</th>\n",
       "      <th>y_coordinate</th>\n",
       "      <th>timestamp</th>\n",
       "      <th>state</th>\n",
       "      <th>date</th>\n",
       "      <th>azimuth</th>\n",
       "      <th>...</th>\n",
       "      <th>control</th>\n",
       "      <th>session</th>\n",
       "      <th>dx</th>\n",
       "      <th>dy</th>\n",
       "      <th>delta_altitude</th>\n",
       "      <th>delta_pressure</th>\n",
       "      <th>delta_azimuth</th>\n",
       "      <th>distance</th>\n",
       "      <th>dt</th>\n",
       "      <th>speed</th>\n",
       "    </tr>\n",
       "  </thead>\n",
       "  <tbody>\n",
       "    <tr>\n",
       "      <th>0</th>\n",
       "      <td>T001</td>\n",
       "      <td>NaN</td>\n",
       "      <td>NaN</td>\n",
       "      <td>R</td>\n",
       "      <td>1493</td>\n",
       "      <td>9752</td>\n",
       "      <td>12:34:58.403000</td>\n",
       "      <td>1</td>\n",
       "      <td>1970-01-01 12:34:58.403</td>\n",
       "      <td>1990</td>\n",
       "      <td>...</td>\n",
       "      <td>N</td>\n",
       "      <td>u00005s00001_hw00001.svc</td>\n",
       "      <td>NaN</td>\n",
       "      <td>NaN</td>\n",
       "      <td>NaN</td>\n",
       "      <td>NaN</td>\n",
       "      <td>NaN</td>\n",
       "      <td>NaN</td>\n",
       "      <td>NaN</td>\n",
       "      <td>NaN</td>\n",
       "    </tr>\n",
       "    <tr>\n",
       "      <th>1</th>\n",
       "      <td>T001</td>\n",
       "      <td>NaN</td>\n",
       "      <td>NaN</td>\n",
       "      <td>R</td>\n",
       "      <td>1490</td>\n",
       "      <td>9752</td>\n",
       "      <td>12:34:58.411000</td>\n",
       "      <td>1</td>\n",
       "      <td>1970-01-01 12:34:58.411</td>\n",
       "      <td>1990</td>\n",
       "      <td>...</td>\n",
       "      <td>N</td>\n",
       "      <td>u00005s00001_hw00001.svc</td>\n",
       "      <td>-3.0</td>\n",
       "      <td>0.0</td>\n",
       "      <td>0.0</td>\n",
       "      <td>162.0</td>\n",
       "      <td>0.0</td>\n",
       "      <td>3.0</td>\n",
       "      <td>0.008</td>\n",
       "      <td>375.000000</td>\n",
       "    </tr>\n",
       "    <tr>\n",
       "      <th>2</th>\n",
       "      <td>T001</td>\n",
       "      <td>NaN</td>\n",
       "      <td>NaN</td>\n",
       "      <td>R</td>\n",
       "      <td>1490</td>\n",
       "      <td>9752</td>\n",
       "      <td>12:34:58.418000</td>\n",
       "      <td>1</td>\n",
       "      <td>1970-01-01 12:34:58.418</td>\n",
       "      <td>1990</td>\n",
       "      <td>...</td>\n",
       "      <td>N</td>\n",
       "      <td>u00005s00001_hw00001.svc</td>\n",
       "      <td>0.0</td>\n",
       "      <td>0.0</td>\n",
       "      <td>0.0</td>\n",
       "      <td>160.0</td>\n",
       "      <td>0.0</td>\n",
       "      <td>0.0</td>\n",
       "      <td>0.007</td>\n",
       "      <td>0.000000</td>\n",
       "    </tr>\n",
       "    <tr>\n",
       "      <th>3</th>\n",
       "      <td>T001</td>\n",
       "      <td>NaN</td>\n",
       "      <td>NaN</td>\n",
       "      <td>R</td>\n",
       "      <td>1490</td>\n",
       "      <td>9752</td>\n",
       "      <td>12:34:58.426000</td>\n",
       "      <td>1</td>\n",
       "      <td>1970-01-01 12:34:58.426</td>\n",
       "      <td>1990</td>\n",
       "      <td>...</td>\n",
       "      <td>N</td>\n",
       "      <td>u00005s00001_hw00001.svc</td>\n",
       "      <td>0.0</td>\n",
       "      <td>0.0</td>\n",
       "      <td>0.0</td>\n",
       "      <td>152.0</td>\n",
       "      <td>0.0</td>\n",
       "      <td>0.0</td>\n",
       "      <td>0.008</td>\n",
       "      <td>0.000000</td>\n",
       "    </tr>\n",
       "    <tr>\n",
       "      <th>4</th>\n",
       "      <td>T001</td>\n",
       "      <td>NaN</td>\n",
       "      <td>NaN</td>\n",
       "      <td>R</td>\n",
       "      <td>1489</td>\n",
       "      <td>9752</td>\n",
       "      <td>12:34:58.433000</td>\n",
       "      <td>1</td>\n",
       "      <td>1970-01-01 12:34:58.433</td>\n",
       "      <td>1990</td>\n",
       "      <td>...</td>\n",
       "      <td>N</td>\n",
       "      <td>u00005s00001_hw00001.svc</td>\n",
       "      <td>-1.0</td>\n",
       "      <td>0.0</td>\n",
       "      <td>0.0</td>\n",
       "      <td>187.0</td>\n",
       "      <td>0.0</td>\n",
       "      <td>1.0</td>\n",
       "      <td>0.007</td>\n",
       "      <td>142.857143</td>\n",
       "    </tr>\n",
       "  </tbody>\n",
       "</table>\n",
       "<p>5 rows × 22 columns</p>\n",
       "</div>"
      ],
      "text/plain": [
       "  subject gender  age hand  x_coordinate  y_coordinate        timestamp  \\\n",
       "0    T001    NaN  NaN    R          1493          9752  12:34:58.403000   \n",
       "1    T001    NaN  NaN    R          1490          9752  12:34:58.411000   \n",
       "2    T001    NaN  NaN    R          1490          9752  12:34:58.418000   \n",
       "3    T001    NaN  NaN    R          1490          9752  12:34:58.426000   \n",
       "4    T001    NaN  NaN    R          1489          9752  12:34:58.433000   \n",
       "\n",
       "   state                    date  azimuth  ...  control  \\\n",
       "0      1 1970-01-01 12:34:58.403     1990  ...        N   \n",
       "1      1 1970-01-01 12:34:58.411     1990  ...        N   \n",
       "2      1 1970-01-01 12:34:58.418     1990  ...        N   \n",
       "3      1 1970-01-01 12:34:58.426     1990  ...        N   \n",
       "4      1 1970-01-01 12:34:58.433     1990  ...        N   \n",
       "\n",
       "                    session   dx   dy  delta_altitude  delta_pressure  \\\n",
       "0  u00005s00001_hw00001.svc  NaN  NaN             NaN             NaN   \n",
       "1  u00005s00001_hw00001.svc -3.0  0.0             0.0           162.0   \n",
       "2  u00005s00001_hw00001.svc  0.0  0.0             0.0           160.0   \n",
       "3  u00005s00001_hw00001.svc  0.0  0.0             0.0           152.0   \n",
       "4  u00005s00001_hw00001.svc -1.0  0.0             0.0           187.0   \n",
       "\n",
       "   delta_azimuth  distance     dt       speed  \n",
       "0            NaN       NaN    NaN         NaN  \n",
       "1            0.0       3.0  0.008  375.000000  \n",
       "2            0.0       0.0  0.007    0.000000  \n",
       "3            0.0       0.0  0.008    0.000000  \n",
       "4            0.0       1.0  0.007  142.857143  \n",
       "\n",
       "[5 rows x 22 columns]"
      ]
     },
     "execution_count": 17,
     "metadata": {},
     "output_type": "execute_result"
    }
   ],
   "source": [
    "def create_metrics(df):\n",
    "    df_temp = df.copy()\n",
    "    grouping_vars = ['subject','session']\n",
    "    df_temp[\"dx\"] = df_temp.groupby(grouping_vars)[\"x_coordinate\"].diff()\n",
    "    df_temp[\"dy\"] = df_temp.groupby(grouping_vars)[\"y_coordinate\"].diff()\n",
    "    df_temp[\"delta_altitude\"] = df_temp.groupby(grouping_vars)[\"altitude\"].diff().abs()\n",
    "    df_temp[\"delta_pressure\"] = df_temp.groupby(grouping_vars)[\"pressure\"].diff().abs()\n",
    "    df_temp[\"delta_azimuth\"] = df_temp.groupby(grouping_vars)[\"azimuth\"].diff().abs()\n",
    "    # Calculate the delta distance as the Euclidean distance for each group\n",
    "    df_temp[\"distance\"] = np.sqrt(df_temp[\"dx\"] ** 2 + df_temp[\"dy\"] ** 2)\n",
    "    # Compute time difference in seconds\n",
    "    df_temp[\"dt\"] = pd.to_datetime(df_temp[\"date\"]).diff().dt.total_seconds()\n",
    "    # Calculate speed\n",
    "    df_temp[\"speed\"] = df_temp[\"distance\"] / df_temp[\"dt\"]\n",
    "    return df_temp\n",
    "df = create_metrics(df)\n",
    "print(df.shape)\n",
    "df.head()"
   ]
  },
  {
   "cell_type": "code",
   "execution_count": 18,
   "metadata": {},
   "outputs": [
    {
     "name": "stdout",
     "output_type": "stream",
     "text": [
      "<class 'pandas.core.frame.DataFrame'>\n",
      "RangeIndex: 250802 entries, 0 to 250801\n",
      "Data columns (total 22 columns):\n",
      " #   Column          Non-Null Count   Dtype         \n",
      "---  ------          --------------   -----         \n",
      " 0   subject         250802 non-null  object        \n",
      " 1   gender          51060 non-null   object        \n",
      " 2   age             51060 non-null   float64       \n",
      " 3   hand            250802 non-null  object        \n",
      " 4   x_coordinate    250802 non-null  int64         \n",
      " 5   y_coordinate    250802 non-null  int64         \n",
      " 6   timestamp       250802 non-null  object        \n",
      " 7   state           250802 non-null  int64         \n",
      " 8   date            250802 non-null  datetime64[ns]\n",
      " 9   azimuth         250802 non-null  int64         \n",
      " 10  altitude        250802 non-null  int64         \n",
      " 11  pressure        250802 non-null  int64         \n",
      " 12  control         250802 non-null  object        \n",
      " 13  session         250802 non-null  object        \n",
      " 14  dx              250678 non-null  float64       \n",
      " 15  dy              250678 non-null  float64       \n",
      " 16  delta_altitude  250678 non-null  float64       \n",
      " 17  delta_pressure  250678 non-null  float64       \n",
      " 18  delta_azimuth   250678 non-null  float64       \n",
      " 19  distance        250678 non-null  float64       \n",
      " 20  dt              250801 non-null  float64       \n",
      " 21  speed           250678 non-null  float64       \n",
      "dtypes: datetime64[ns](1), float64(9), int64(6), object(6)\n",
      "memory usage: 42.1+ MB\n"
     ]
    }
   ],
   "source": [
    "df.info()"
   ]
  },
  {
   "cell_type": "code",
   "execution_count": 19,
   "metadata": {},
   "outputs": [
    {
     "data": {
      "text/html": [
       "<div>\n",
       "<style scoped>\n",
       "    .dataframe tbody tr th:only-of-type {\n",
       "        vertical-align: middle;\n",
       "    }\n",
       "\n",
       "    .dataframe tbody tr th {\n",
       "        vertical-align: top;\n",
       "    }\n",
       "\n",
       "    .dataframe thead th {\n",
       "        text-align: right;\n",
       "    }\n",
       "</style>\n",
       "<table border=\"1\" class=\"dataframe\">\n",
       "  <thead>\n",
       "    <tr style=\"text-align: right;\">\n",
       "      <th></th>\n",
       "      <th>subject</th>\n",
       "      <th>session</th>\n",
       "      <th>control</th>\n",
       "      <th>altitude</th>\n",
       "      <th>pressure</th>\n",
       "      <th>azimuth</th>\n",
       "      <th>delta_altitude</th>\n",
       "      <th>delta_pressure</th>\n",
       "      <th>delta_azimuth</th>\n",
       "      <th>speed_variability</th>\n",
       "      <th>control_numeric</th>\n",
       "    </tr>\n",
       "  </thead>\n",
       "  <tbody>\n",
       "    <tr>\n",
       "      <th>0</th>\n",
       "      <td>C01</td>\n",
       "      <td>u00003s00002_hw000011.svc</td>\n",
       "      <td>Y</td>\n",
       "      <td>744.736842</td>\n",
       "      <td>1641.735324</td>\n",
       "      <td>3372.130567</td>\n",
       "      <td>0.779747</td>\n",
       "      <td>84.056203</td>\n",
       "      <td>7.103797</td>\n",
       "      <td>0.353673</td>\n",
       "      <td>1</td>\n",
       "    </tr>\n",
       "    <tr>\n",
       "      <th>1</th>\n",
       "      <td>C01</td>\n",
       "      <td>u00003s00002_hw000012.svc</td>\n",
       "      <td>Y</td>\n",
       "      <td>817.502444</td>\n",
       "      <td>1003.782991</td>\n",
       "      <td>1941.793744</td>\n",
       "      <td>0.767726</td>\n",
       "      <td>70.984841</td>\n",
       "      <td>7.413203</td>\n",
       "      <td>0.328152</td>\n",
       "      <td>1</td>\n",
       "    </tr>\n",
       "    <tr>\n",
       "      <th>2</th>\n",
       "      <td>C02</td>\n",
       "      <td>u00004s00001_hw000011.svc</td>\n",
       "      <td>Y</td>\n",
       "      <td>748.940962</td>\n",
       "      <td>1014.970785</td>\n",
       "      <td>3194.357882</td>\n",
       "      <td>0.883069</td>\n",
       "      <td>29.577345</td>\n",
       "      <td>18.666261</td>\n",
       "      <td>0.307090</td>\n",
       "      <td>1</td>\n",
       "    </tr>\n",
       "    <tr>\n",
       "      <th>3</th>\n",
       "      <td>C02</td>\n",
       "      <td>u00004s00001_hw000012.svc</td>\n",
       "      <td>Y</td>\n",
       "      <td>799.971469</td>\n",
       "      <td>936.285307</td>\n",
       "      <td>1673.128864</td>\n",
       "      <td>1.046622</td>\n",
       "      <td>45.383444</td>\n",
       "      <td>6.308278</td>\n",
       "      <td>0.384199</td>\n",
       "      <td>1</td>\n",
       "    </tr>\n",
       "    <tr>\n",
       "      <th>4</th>\n",
       "      <td>C03</td>\n",
       "      <td>u00005s00001_hw000011.svc</td>\n",
       "      <td>Y</td>\n",
       "      <td>759.467397</td>\n",
       "      <td>1108.660030</td>\n",
       "      <td>694.639124</td>\n",
       "      <td>0.806773</td>\n",
       "      <td>35.937251</td>\n",
       "      <td>14.203187</td>\n",
       "      <td>0.283591</td>\n",
       "      <td>1</td>\n",
       "    </tr>\n",
       "  </tbody>\n",
       "</table>\n",
       "</div>"
      ],
      "text/plain": [
       "  subject                    session control    altitude     pressure  \\\n",
       "0     C01  u00003s00002_hw000011.svc       Y  744.736842  1641.735324   \n",
       "1     C01  u00003s00002_hw000012.svc       Y  817.502444  1003.782991   \n",
       "2     C02  u00004s00001_hw000011.svc       Y  748.940962  1014.970785   \n",
       "3     C02  u00004s00001_hw000012.svc       Y  799.971469   936.285307   \n",
       "4     C03  u00005s00001_hw000011.svc       Y  759.467397  1108.660030   \n",
       "\n",
       "       azimuth  delta_altitude  delta_pressure  delta_azimuth  \\\n",
       "0  3372.130567        0.779747       84.056203       7.103797   \n",
       "1  1941.793744        0.767726       70.984841       7.413203   \n",
       "2  3194.357882        0.883069       29.577345      18.666261   \n",
       "3  1673.128864        1.046622       45.383444       6.308278   \n",
       "4   694.639124        0.806773       35.937251      14.203187   \n",
       "\n",
       "   speed_variability  control_numeric  \n",
       "0           0.353673                1  \n",
       "1           0.328152                1  \n",
       "2           0.307090                1  \n",
       "3           0.384199                1  \n",
       "4           0.283591                1  "
      ]
     },
     "execution_count": 19,
     "metadata": {},
     "output_type": "execute_result"
    }
   ],
   "source": [
    "def aggregate_features(df_input):\n",
    "    variability_data = []\n",
    "    # Iterate over subjects\n",
    "    for subject in df_input.subject.unique():\n",
    "        subject_df = df_input[df_input.subject == subject]\n",
    "        # Iterate over sessions for each subject\n",
    "        for session in subject_df.session.unique():\n",
    "            session_df = subject_df[\n",
    "                (subject_df.session == session) & (subject_df.subject == subject)\n",
    "            ]\n",
    "            # Calculate variability (coefficient of variation) for speed\n",
    "            speed_variability = variation(session_df[\"speed\"].dropna())\n",
    "            \n",
    "            # Collect the information (session, subject, and speed variability)\n",
    "            variability_data.append({\n",
    "                \"subject\": subject,\n",
    "                \"session\": session,\n",
    "                \"control\": session_df[\"control\"].iloc[0],\n",
    "                \"speed_variability\": speed_variability\n",
    "            })\n",
    "\n",
    "    # Convert the variability data into a DataFrame\n",
    "    variability_df = pd.DataFrame(variability_data)\n",
    "\n",
    "    # Group by subject, session, and control, and calculate mean values for other features\n",
    "    mean_df = df_input.groupby([\"subject\",\"session\",\"control\"]).agg({\n",
    "        \"altitude\":'mean',\n",
    "        \"pressure\":'mean',\n",
    "        \"azimuth\":'mean',        \n",
    "        \"delta_altitude\":'mean',\n",
    "        \"delta_pressure\":'mean',\n",
    "        \"delta_azimuth\":'mean',\n",
    "        # \"distance\":'mean',\n",
    "        # \"speed\":'mean',\n",
    "    }).reset_index()\n",
    "\n",
    "    # Merge the variability_df with mean_df on subject and session\n",
    "    merged_df = pd.merge(mean_df, variability_df, on=[\"subject\",\"session\",\"control\"], how=\"left\")\n",
    "    return merged_df\n",
    "df_metrics = aggregate_features(df)\n",
    "numerical_features = df_metrics.select_dtypes(include=[np.number]).columns\n",
    "# Convert the class to numeric (0 for non-control/patients with PD, 1 for control/healthy patient)\n",
    "df_metrics[\"control_numeric\"] = (df_metrics[\"control\"] == \"Y\").astype(int)\n",
    "df_metrics.head()"
   ]
  },
  {
   "cell_type": "code",
   "execution_count": 20,
   "metadata": {},
   "outputs": [
    {
     "name": "stdout",
     "output_type": "stream",
     "text": [
      "Total number of unique subjects: 32\n",
      "Number of healthy subjects: 10\n",
      "Number of PD subjects: 22\n"
     ]
    }
   ],
   "source": [
    "unique_subjects = df_metrics['subject'].drop_duplicates()\n",
    "\n",
    "# Total number of unique subjects\n",
    "num_subjects = unique_subjects.nunique()\n",
    "\n",
    "# Number of healthy subjects (control == 'Y')\n",
    "healthy_subjects = df_metrics[df_metrics['control'] == 'Y']['subject'].drop_duplicates().nunique()\n",
    "\n",
    "# Number of sick subjects (control == 'N')\n",
    "sick_subjects = df_metrics[df_metrics['control'] == 'N']['subject'].drop_duplicates().nunique()\n",
    "\n",
    "print(f\"Total number of unique subjects: {num_subjects}\")\n",
    "print(f\"Number of healthy subjects: {healthy_subjects}\")\n",
    "print(f\"Number of PD subjects: {sick_subjects}\")"
   ]
  },
  {
   "cell_type": "code",
   "execution_count": 21,
   "metadata": {},
   "outputs": [
    {
     "name": "stdout",
     "output_type": "stream",
     "text": [
      "Number of sessions for the controlled group: 20\n",
      "Number of sessions for the non-controlled group: 104\n"
     ]
    }
   ],
   "source": [
    "# Number of sessions for healthy subjects (control == 'Y')\n",
    "no_healthy_sessions = len(df_metrics[df_metrics['control_numeric'] == 1])\n",
    "\n",
    "# Number of sessions for sick subjects (control == 'N')\n",
    "no_sick_sessions = len(df_metrics[df_metrics['control_numeric'] == 0])\n",
    "\n",
    "# Print the results\n",
    "print(f\"Number of sessions for the controlled group: {no_healthy_sessions}\")\n",
    "print(f\"Number of sessions for the non-controlled group: {no_sick_sessions}\")"
   ]
  },
  {
   "cell_type": "code",
   "execution_count": 22,
   "metadata": {},
   "outputs": [
    {
     "name": "stdout",
     "output_type": "stream",
     "text": [
      "Number of sessions for the controlled and non-controlled groups: 124\n"
     ]
    }
   ],
   "source": [
    "# All sessions\n",
    "all_sessions = len(df_metrics[df_metrics['control_numeric'] == 1]) + len(df_metrics[df_metrics['control_numeric'] == 0])\n",
    "print(f\"Number of sessions for the controlled and non-controlled groups: {all_sessions}\")"
   ]
  },
  {
   "cell_type": "code",
   "execution_count": 23,
   "metadata": {},
   "outputs": [],
   "source": [
    "# Split the dataset into all controlled and non control patients\n",
    "controlled = df.loc[df['control'] == 'Y']\n",
    "noncontrolled = df.loc[df['control'] == 'N']\n",
    "control_df= df[(df.subject == \"C01\") & (df.session == \"u00003s00002_hw000011.svc\")].reset_index(drop=True)\n",
    "non_control_df = df[(df.subject == \"T001\") & (df.session == \"u00005s00001_hw00001.svc\")].reset_index(drop=True)"
   ]
  },
  {
   "cell_type": "code",
   "execution_count": 24,
   "metadata": {},
   "outputs": [],
   "source": [
    "def plot_drawing(df):\n",
    "    \"\"\"\n",
    "    Plots a spiral drawing for a single session\n",
    "    \"\"\"\n",
    "    fig, ax = plt.subplots(figsize=(8, 6))\n",
    "    plt.scatter(df['x_coordinate'], df['y_coordinate'], s=2)\n",
    "    plt.xlabel('X Coordinate')\n",
    "    plt.ylabel('Y Coordinate')\n",
    "    # plt.title('Handwritten Spirals')\n",
    "    plt.show()"
   ]
  },
  {
   "cell_type": "code",
   "execution_count": 25,
   "metadata": {},
   "outputs": [
    {
     "data": {
      "image/png": "[encoded data removed]",
      "text/plain": [
       "<Figure size 800x600 with 1 Axes>"
      ]
     },
     "metadata": {},
     "output_type": "display_data"
    }
   ],
   "source": [
    "# Plot a sample drawing for a control patient\n",
    "plot_drawing(control_df)"
   ]
  },
  {
   "cell_type": "code",
   "execution_count": 26,
   "metadata": {},
   "outputs": [
    {
     "data": {
      "image/png": "[encoded data removed]",
      "text/plain": [
       "<Figure size 800x600 with 1 Axes>"
      ]
     },
     "metadata": {},
     "output_type": "display_data"
    }
   ],
   "source": [
    "plot_drawing(non_control_df)"
   ]
  },
  {
   "cell_type": "markdown",
   "metadata": {},
   "source": [
    "# Delta features"
   ]
  },
  {
   "cell_type": "code",
   "execution_count": 27,
   "metadata": {},
   "outputs": [
    {
     "data": {
      "text/plain": [
       "((20, 11), (104, 11))"
      ]
     },
     "execution_count": 27,
     "metadata": {},
     "output_type": "execute_result"
    }
   ],
   "source": [
    "control_group = df_metrics[df_metrics['control'] == 'Y']\n",
    "uncontrolled_group = df_metrics[df_metrics['control'] == 'N']\n",
    "control_group.shape, uncontrolled_group.shape"
   ]
  },
  {
   "cell_type": "code",
   "execution_count": 28,
   "metadata": {},
   "outputs": [
    {
     "data": {
      "image/png": "[encoded data removed]",
      "text/plain": [
       "<Figure size 800x600 with 1 Axes>"
      ]
     },
     "metadata": {},
     "output_type": "display_data"
    }
   ],
   "source": [
    "def make_delta_plot(control_df, non_control_df, plot_feature=\"altitude\"):\n",
    "    \"\"\"\n",
    "    Make the delta feature plot using either delta altitude, pressure or azimuth\n",
    "    \"\"\"\n",
    "    if plot_feature == \"altitude\":\n",
    "        feature = \"delta_altitude\"\n",
    "        name = \"Delta Altitude\"\n",
    "    elif plot_feature == \"pressure\":\n",
    "        feature = \"delta_pressure\"\n",
    "        name = \"Delta Pressure\"\n",
    "    elif plot_feature == \"azimuth\":\n",
    "        feature = \"delta_azimuth\"\n",
    "        name = \"Delta Azimuth\"\n",
    "    else:\n",
    "        raise TypeError(\"Delta feature not recognized\")\n",
    "\n",
    "    # Find the minimum length between the two dataframes\n",
    "    min_length = min(len(control_df[feature]), len(non_control_df[feature]))\n",
    "    # Trim both dataframes to the minimum length\n",
    "    control_delta = control_df[feature][:min_length]\n",
    "    non_control_delta = non_control_df[feature][:min_length]\n",
    "    time_step = np.arange(min_length)\n",
    "\n",
    "    # Merge data from the control and non control dataframes\n",
    "    combined_df = pd.DataFrame({\n",
    "        \"time_step\": np.concatenate([time_step, time_step]),\n",
    "        feature: np.concatenate([control_delta, non_control_delta]),\n",
    "        \"group\": [\"Control\"] * min_length + [\"Non-Control\"] * min_length  # String labels\n",
    "    })\n",
    "    \n",
    "    palette = {\"Control\": \"blue\", \"Non-Control\": \"red\"}\n",
    "    fig, ax = plt.subplots(figsize=(8, 6))\n",
    "    sns.lineplot(\n",
    "        data=combined_df, \n",
    "        x=\"time_step\", \n",
    "        y=feature, \n",
    "        hue=\"group\", \n",
    "        palette=palette,\n",
    "        alpha=0.7\n",
    "    )\n",
    "    plt.xlabel('Time Step')\n",
    "    plt.ylabel(name)\n",
    "    # plt.title(f'{name} over Time by Session')\n",
    "    plt.legend(frameon=False, loc='upper left')\n",
    "    plt.tight_layout()\n",
    "    plt.savefig(os.path.join(root_dir,f\"graphs/{feature}.pdf\"), bbox_inches=\"tight\")\n",
    "    plt.show()\n",
    "\n",
    "make_delta_plot(control_df, non_control_df, \"altitude\")"
   ]
  },
  {
   "cell_type": "code",
   "execution_count": 29,
   "metadata": {},
   "outputs": [
    {
     "data": {
      "image/png": "[encoded data removed]",
      "text/plain": [
       "<Figure size 800x600 with 1 Axes>"
      ]
     },
     "metadata": {},
     "output_type": "display_data"
    }
   ],
   "source": [
    "make_delta_plot(control_df, non_control_df, \"pressure\")"
   ]
  },
  {
   "cell_type": "code",
   "execution_count": 30,
   "metadata": {},
   "outputs": [
    {
     "data": {
      "image/png": "[encoded data removed]",
      "text/plain": [
       "<Figure size 800x600 with 1 Axes>"
      ]
     },
     "metadata": {},
     "output_type": "display_data"
    }
   ],
   "source": [
    "make_delta_plot(control_df, non_control_df, \"azimuth\")"
   ]
  },
  {
   "cell_type": "markdown",
   "metadata": {},
   "source": [
    "# Drawing Speed"
   ]
  },
  {
   "cell_type": "code",
   "execution_count": 31,
   "metadata": {},
   "outputs": [
    {
     "data": {
      "text/html": [
       "<div>\n",
       "<style scoped>\n",
       "    .dataframe tbody tr th:only-of-type {\n",
       "        vertical-align: middle;\n",
       "    }\n",
       "\n",
       "    .dataframe tbody tr th {\n",
       "        vertical-align: top;\n",
       "    }\n",
       "\n",
       "    .dataframe thead th {\n",
       "        text-align: right;\n",
       "    }\n",
       "</style>\n",
       "<table border=\"1\" class=\"dataframe\">\n",
       "  <thead>\n",
       "    <tr style=\"text-align: right;\">\n",
       "      <th></th>\n",
       "      <th>subject</th>\n",
       "      <th>session</th>\n",
       "      <th>control</th>\n",
       "      <th>altitude</th>\n",
       "      <th>pressure</th>\n",
       "      <th>azimuth</th>\n",
       "      <th>delta_altitude</th>\n",
       "      <th>delta_pressure</th>\n",
       "      <th>delta_azimuth</th>\n",
       "      <th>speed_variability</th>\n",
       "      <th>control_numeric</th>\n",
       "    </tr>\n",
       "  </thead>\n",
       "  <tbody>\n",
       "    <tr>\n",
       "      <th>0</th>\n",
       "      <td>C01</td>\n",
       "      <td>u00003s00002_hw000011.svc</td>\n",
       "      <td>Y</td>\n",
       "      <td>744.736842</td>\n",
       "      <td>1641.735324</td>\n",
       "      <td>3372.130567</td>\n",
       "      <td>0.779747</td>\n",
       "      <td>84.056203</td>\n",
       "      <td>7.103797</td>\n",
       "      <td>0.353673</td>\n",
       "      <td>1</td>\n",
       "    </tr>\n",
       "    <tr>\n",
       "      <th>1</th>\n",
       "      <td>C01</td>\n",
       "      <td>u00003s00002_hw000012.svc</td>\n",
       "      <td>Y</td>\n",
       "      <td>817.502444</td>\n",
       "      <td>1003.782991</td>\n",
       "      <td>1941.793744</td>\n",
       "      <td>0.767726</td>\n",
       "      <td>70.984841</td>\n",
       "      <td>7.413203</td>\n",
       "      <td>0.328152</td>\n",
       "      <td>1</td>\n",
       "    </tr>\n",
       "    <tr>\n",
       "      <th>2</th>\n",
       "      <td>C02</td>\n",
       "      <td>u00004s00001_hw000011.svc</td>\n",
       "      <td>Y</td>\n",
       "      <td>748.940962</td>\n",
       "      <td>1014.970785</td>\n",
       "      <td>3194.357882</td>\n",
       "      <td>0.883069</td>\n",
       "      <td>29.577345</td>\n",
       "      <td>18.666261</td>\n",
       "      <td>0.307090</td>\n",
       "      <td>1</td>\n",
       "    </tr>\n",
       "    <tr>\n",
       "      <th>3</th>\n",
       "      <td>C02</td>\n",
       "      <td>u00004s00001_hw000012.svc</td>\n",
       "      <td>Y</td>\n",
       "      <td>799.971469</td>\n",
       "      <td>936.285307</td>\n",
       "      <td>1673.128864</td>\n",
       "      <td>1.046622</td>\n",
       "      <td>45.383444</td>\n",
       "      <td>6.308278</td>\n",
       "      <td>0.384199</td>\n",
       "      <td>1</td>\n",
       "    </tr>\n",
       "    <tr>\n",
       "      <th>4</th>\n",
       "      <td>C03</td>\n",
       "      <td>u00005s00001_hw000011.svc</td>\n",
       "      <td>Y</td>\n",
       "      <td>759.467397</td>\n",
       "      <td>1108.660030</td>\n",
       "      <td>694.639124</td>\n",
       "      <td>0.806773</td>\n",
       "      <td>35.937251</td>\n",
       "      <td>14.203187</td>\n",
       "      <td>0.283591</td>\n",
       "      <td>1</td>\n",
       "    </tr>\n",
       "  </tbody>\n",
       "</table>\n",
       "</div>"
      ],
      "text/plain": [
       "  subject                    session control    altitude     pressure  \\\n",
       "0     C01  u00003s00002_hw000011.svc       Y  744.736842  1641.735324   \n",
       "1     C01  u00003s00002_hw000012.svc       Y  817.502444  1003.782991   \n",
       "2     C02  u00004s00001_hw000011.svc       Y  748.940962  1014.970785   \n",
       "3     C02  u00004s00001_hw000012.svc       Y  799.971469   936.285307   \n",
       "4     C03  u00005s00001_hw000011.svc       Y  759.467397  1108.660030   \n",
       "\n",
       "       azimuth  delta_altitude  delta_pressure  delta_azimuth  \\\n",
       "0  3372.130567        0.779747       84.056203       7.103797   \n",
       "1  1941.793744        0.767726       70.984841       7.413203   \n",
       "2  3194.357882        0.883069       29.577345      18.666261   \n",
       "3  1673.128864        1.046622       45.383444       6.308278   \n",
       "4   694.639124        0.806773       35.937251      14.203187   \n",
       "\n",
       "   speed_variability  control_numeric  \n",
       "0           0.353673                1  \n",
       "1           0.328152                1  \n",
       "2           0.307090                1  \n",
       "3           0.384199                1  \n",
       "4           0.283591                1  "
      ]
     },
     "execution_count": 31,
     "metadata": {},
     "output_type": "execute_result"
    }
   ],
   "source": [
    "df_metrics.head()"
   ]
  },
  {
   "cell_type": "code",
   "execution_count": 32,
   "metadata": {},
   "outputs": [
    {
     "data": {
      "image/png": "[encoded data removed]",
      "text/plain": [
       "<Figure size 800x600 with 1 Axes>"
      ]
     },
     "metadata": {},
     "output_type": "display_data"
    }
   ],
   "source": [
    "# Make the drawing speed variability plot\n",
    "fig, ax = plt.subplots(figsize=(8, 6))\n",
    "hue_order = [0, 1] \n",
    "legend_labels = {0: 'Control', 1: 'Non-Control'}\n",
    "sns.histplot(df_metrics, x=\"speed_variability\", hue=\"control_numeric\", kde=True, palette=\"Set1\", alpha=0.7,  hue_order=hue_order)\n",
    "plt.xlabel(\"Speed Variability\", labelpad=10)\n",
    "plt.ylabel(\"Count\", labelpad=10)\n",
    "plt.legend(labels=[legend_labels[i] for i in hue_order], frameon=False)\n",
    "plt.tight_layout()\n",
    "plt.savefig(os.path.join(root_dir,\"graphs/speed_variation.pdf\"), bbox_inches=\"tight\")\n",
    "plt.show()"
   ]
  },
  {
   "cell_type": "code",
   "execution_count": 33,
   "metadata": {},
   "outputs": [
    {
     "name": "stdout",
     "output_type": "stream",
     "text": [
      "Mean values for each metric:\n"
     ]
    },
    {
     "data": {
      "text/html": [
       "<div>\n",
       "<style scoped>\n",
       "    .dataframe tbody tr th:only-of-type {\n",
       "        vertical-align: middle;\n",
       "    }\n",
       "\n",
       "    .dataframe tbody tr th {\n",
       "        vertical-align: top;\n",
       "    }\n",
       "\n",
       "    .dataframe thead th {\n",
       "        text-align: right;\n",
       "    }\n",
       "</style>\n",
       "<table border=\"1\" class=\"dataframe\">\n",
       "  <thead>\n",
       "    <tr style=\"text-align: right;\">\n",
       "      <th></th>\n",
       "      <th>altitude</th>\n",
       "      <th>pressure</th>\n",
       "      <th>azimuth</th>\n",
       "      <th>delta_altitude</th>\n",
       "      <th>delta_pressure</th>\n",
       "      <th>delta_azimuth</th>\n",
       "      <th>speed_variability</th>\n",
       "    </tr>\n",
       "    <tr>\n",
       "      <th>control</th>\n",
       "      <th></th>\n",
       "      <th></th>\n",
       "      <th></th>\n",
       "      <th></th>\n",
       "      <th></th>\n",
       "      <th></th>\n",
       "      <th></th>\n",
       "    </tr>\n",
       "  </thead>\n",
       "  <tbody>\n",
       "    <tr>\n",
       "      <th>N</th>\n",
       "      <td>688.58668</td>\n",
       "      <td>946.923795</td>\n",
       "      <td>1058.461317</td>\n",
       "      <td>1.032121</td>\n",
       "      <td>20.964926</td>\n",
       "      <td>5.409654</td>\n",
       "      <td>1.223911</td>\n",
       "    </tr>\n",
       "    <tr>\n",
       "      <th>Y</th>\n",
       "      <td>752.76349</td>\n",
       "      <td>1185.737313</td>\n",
       "      <td>1611.693997</td>\n",
       "      <td>0.828946</td>\n",
       "      <td>44.096586</td>\n",
       "      <td>9.949081</td>\n",
       "      <td>0.457247</td>\n",
       "    </tr>\n",
       "  </tbody>\n",
       "</table>\n",
       "</div>"
      ],
      "text/plain": [
       "          altitude     pressure      azimuth  delta_altitude  delta_pressure  \\\n",
       "control                                                                        \n",
       "N        688.58668   946.923795  1058.461317        1.032121       20.964926   \n",
       "Y        752.76349  1185.737313  1611.693997        0.828946       44.096586   \n",
       "\n",
       "         delta_azimuth  speed_variability  \n",
       "control                                    \n",
       "N             5.409654           1.223911  \n",
       "Y             9.949081           0.457247  "
      ]
     },
     "execution_count": 33,
     "metadata": {},
     "output_type": "execute_result"
    }
   ],
   "source": [
    "print(\"Mean values for each metric:\")\n",
    "df_metrics.groupby(\"control\")[numerical_features].mean()"
   ]
  },
  {
   "cell_type": "code",
   "execution_count": 34,
   "metadata": {},
   "outputs": [
    {
     "data": {
      "image/png": "[encoded data removed]",
      "text/plain": [
       "<Figure size 1000x800 with 2 Axes>"
      ]
     },
     "metadata": {},
     "output_type": "display_data"
    }
   ],
   "source": [
    "df_corr = df_metrics.copy()\n",
    "df_corr[\"control_numeric\"] = (df_corr[\"control\"] == \"N\").astype(int)\n",
    "\n",
    "correlation_matrix = df_corr[[\"pressure\",\"altitude\",\"azimuth\", \"delta_pressure\", \"delta_altitude\", \"delta_azimuth\", \"speed_variability\",\"control_numeric\"]].copy().corr(\"pearson\")\n",
    "\n",
    "mask = np.triu(correlation_matrix)\n",
    "plt.figure(figsize=(10, 8))\n",
    "sns.heatmap(correlation_matrix, \n",
    "            annot=True,\n",
    "            cbar=True, \n",
    "            cmap='coolwarm', \n",
    "            fmt='.2f', \n",
    "            linewidths=0.5, \n",
    "            mask=mask)\n",
    "# plt.title(\"Correlation Heatmap\");\n",
    "plt.savefig(os.path.join(root_dir,\"graphs/correlation_triangle.pdf\"), bbox_inches=\"tight\")"
   ]
  },
  {
   "cell_type": "markdown",
   "metadata": {},
   "source": [
    "## Conducting the Kruskal Wallis tests"
   ]
  },
  {
   "cell_type": "code",
   "execution_count": 35,
   "metadata": {},
   "outputs": [
    {
     "name": "stdout",
     "output_type": "stream",
     "text": [
      "Kruskal-Wallis test results:\n",
      "Feature: altitude, p-value: 0.0286185577, Significant: True\n",
      "Feature: pressure, p-value: 0.0167796469, Significant: True\n",
      "Feature: azimuth, p-value: 0.0306623116, Significant: True\n",
      "Feature: delta_altitude, p-value: 0.5282356991, Significant: False\n",
      "Feature: delta_pressure, p-value: 0.0000006584, Significant: True\n",
      "Feature: delta_azimuth, p-value: 0.0005327229, Significant: True\n",
      "Feature: speed_variability, p-value: 0.0000000003, Significant: True\n"
     ]
    }
   ],
   "source": [
    "significance_level = 0.05\n",
    "print(\"Kruskal-Wallis test results:\")\n",
    "for feature in numerical_features.tolist():\n",
    "    stat, p_value = kruskal(control_group[feature],uncontrolled_group[feature])\n",
    "    significant = False\n",
    "    if p_value <= significance_level:\n",
    "        significant = True\n",
    "    print(f\"Feature: {feature}, p-value: {p_value:.10f}, Significant: {significant}\")"
   ]
  }
 ],
 "metadata": {
  "kernelspec": {
   "display_name": "uni",
   "language": "python",
   "name": "python3"
  },
  "language_info": {
   "codemirror_mode": {
    "name": "ipython",
    "version": 3
   },
   "file_extension": ".py",
   "mimetype": "text/x-python",
   "name": "python",
   "nbconvert_exporter": "python",
   "pygments_lexer": "ipython3",
   "version": "3.11.8"
  }
 },
 "nbformat": 4,
 "nbformat_minor": 2
}
