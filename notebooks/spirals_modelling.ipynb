{
 "cells": [
  {
   "cell_type": "code",
   "execution_count": null,
   "metadata": {},
   "outputs": [],
   "source": [
    "!pip install imblearn shap"
   ]
  },
  {
   "cell_type": "code",
   "execution_count": 15,
   "metadata": {},
   "outputs": [],
   "source": [
    "import pandas as pd\n",
    "import os\n",
    "import matplotlib.pyplot as plt\n",
    "import seaborn as sns\n",
    "import numpy as np\n",
    "import shap\n",
    "from sklearn.model_selection import train_test_split\n",
    "from sklearn.ensemble import RandomForestClassifier\n",
    "from sklearn.model_selection import train_test_split\n",
    "from sklearn.calibration import LabelEncoder\n",
    "from sklearn.pipeline import Pipeline\n",
    "from imblearn.pipeline import Pipeline as imbPipeline\n",
    "from imblearn.over_sampling import SMOTE\n",
    "from imblearn.under_sampling import RandomUnderSampler\n",
    "from sklearn.inspection import permutation_importance\n",
    "from sklearn.discriminant_analysis import StandardScaler\n",
    "from sklearn.compose import ColumnTransformer\n",
    "from sklearn.feature_selection import SelectKBest, mutual_info_classif, SequentialFeatureSelector\n",
    "from sklearn.neighbors import KNeighborsClassifier"
   ]
  },
  {
   "cell_type": "code",
   "execution_count": null,
   "metadata": {},
   "outputs": [],
   "source": [
    "shap.initjs()"
   ]
  },
  {
   "cell_type": "code",
   "execution_count": 17,
   "metadata": {},
   "outputs": [],
   "source": [
    "# Hyperparameters for various functions\n",
    "seed = 0\n",
    "smote_sample_strategy = 0.4\n",
    "random_under_sample_strategy = 0.9\n",
    "smote_k_neighbors = 5"
   ]
  },
  {
   "cell_type": "code",
   "execution_count": null,
   "metadata": {},
   "outputs": [],
   "source": [
    "root_dir = os.path.dirname(os.getcwd())\n",
    "df = pd.read_csv(os.path.join(root_dir, \"data/processed/data_cleaned.csv\"))"
   ]
  },
  {
   "cell_type": "code",
   "execution_count": null,
   "metadata": {},
   "outputs": [],
   "source": [
    "df.head()"
   ]
  },
  {
   "cell_type": "code",
   "execution_count": null,
   "metadata": {},
   "outputs": [],
   "source": [
    "df.info()"
   ]
  },
  {
   "cell_type": "code",
   "execution_count": 21,
   "metadata": {},
   "outputs": [],
   "source": [
    "def create_metrics(df):\n",
    "    df_temp = df.copy()\n",
    "    grouping_vars = ['subject','session']\n",
    "    df_temp[\"dx\"] = df_temp.groupby(grouping_vars)[\"x_coordinate\"].diff()\n",
    "    df_temp[\"dy\"] = df_temp.groupby(grouping_vars)[\"y_coordinate\"].diff()\n",
    "    df_temp[\"delta_altitude\"] = df_temp.groupby(grouping_vars)[\"altitude\"].diff().abs()\n",
    "    df_temp[\"delta_pressure\"] = df_temp.groupby(grouping_vars)[\"pressure\"].diff().abs()\n",
    "    df_temp[\"delta_azimuth\"] = df_temp.groupby(grouping_vars)[\"azimuth\"].diff().abs()\n",
    "    # Calculate the delta distance as the Euclidean distance for each group\n",
    "    df_temp[\"distance\"] = np.sqrt(df_temp[\"dx\"] ** 2 + df_temp[\"dy\"] ** 2)\n",
    "    # Compute time difference in seconds\n",
    "    df_temp[\"dt\"] = pd.to_datetime(df_temp[\"date\"]).diff().dt.total_seconds()\n",
    "    # Calculate speed\n",
    "    df_temp[\"speed\"] = df_temp[\"distance\"] / df_temp[\"dt\"]\n",
    "\n",
    "    df_temp = df_temp.groupby(['session','control']).agg({\n",
    "            \"altitude\":'mean',\n",
    "            \"pressure\":'mean',\n",
    "            \"azimuth\":'mean',        \n",
    "            \"delta_altitude\":'mean',\n",
    "            \"delta_pressure\":'mean',\n",
    "            \"delta_azimuth\":'mean',\n",
    "            \"speed\":'mean',\n",
    "        }).reset_index()\n",
    "    df_temp = df_temp.drop(\"session\", axis=1)\n",
    "    return df_temp\n",
    "aggregated_data = create_metrics(df)"
   ]
  },
  {
   "cell_type": "code",
   "execution_count": null,
   "metadata": {},
   "outputs": [],
   "source": [
    "aggregated_data.head()"
   ]
  },
  {
   "cell_type": "code",
   "execution_count": 23,
   "metadata": {},
   "outputs": [],
   "source": [
    "X = aggregated_data.drop([\"control\"], axis=1)\n",
    "y = aggregated_data[\"control\"].copy()\n",
    "\n",
    "label_encoder = LabelEncoder()\n",
    "y_encoded = label_encoder.fit_transform(y)\n",
    "\n",
    "# Split into train and test sets\n",
    "X_train, X_test, y_train, y_test = train_test_split(X, y_encoded, test_size=0.2, random_state=seed)"
   ]
  },
  {
   "cell_type": "code",
   "execution_count": null,
   "metadata": {},
   "outputs": [],
   "source": [
    "%%time\n",
    "def train_rf(perform_fs=False):\n",
    "    pipeline = Pipeline([])#imbPipeline([])\n",
    "    if perform_fs:\n",
    "        pipeline.steps.append(\n",
    "                (\"selector\", SelectKBest(mutual_info_classif, k=4))\n",
    "            )\n",
    "        # pipeline.steps.append(\n",
    "        #         (\"selector\", SequentialFeatureSelector(KNeighborsClassifier(n_neighbors=3),\n",
    "        #                                                                 n_features_to_select=4,\n",
    "        #                                                                 direction='forward')),\n",
    "        #     )\n",
    "    pipeline.steps.extend([\n",
    "        (\"scaler\", StandardScaler()),\n",
    "        # (\"smote\", SMOTE(sampling_strategy=smote_sample_strategy, k_neighbors=smote_k_neighbors, random_state=seed)),\n",
    "        # (\"undersampler\", RandomUnderSampler(sampling_strategy=random_under_sample_strategy, random_state=seed)),\n",
    "        (\"classifier\", RandomForestClassifier(random_state=0))\n",
    "    ])\n",
    "    pipeline.fit(X_train, y_train)\n",
    "    train_accuracy = pipeline.score(X_train, y_train)\n",
    "    test_accuracy = pipeline.score(X_test, y_test)\n",
    "    print(f\"Train accuracy: {train_accuracy*100}%, Train accuracy: {test_accuracy*100}%\")\n",
    "    return pipeline\n",
    "rf_pipeline = train_rf(False)\n",
    "rf_model = rf_pipeline[\"classifier\"]\n",
    "feature_importances = rf_model.feature_importances_"
   ]
  },
  {
   "cell_type": "code",
   "execution_count": null,
   "metadata": {},
   "outputs": [],
   "source": [
    "numerical_features = X_train.columns.copy()\n",
    "sorted(zip(list(feature_importances), numerical_features), reverse=True) "
   ]
  },
  {
   "cell_type": "code",
   "execution_count": null,
   "metadata": {},
   "outputs": [],
   "source": [
    "# This snippet of code was taken from: https://www.rasgoml.com/feature-engineering-tutorials/how-to-generate-feature-importance-plots-from-scikit-learn\n",
    "sorted_idx = np.argsort(feature_importances)\n",
    "fig = plt.figure(figsize=(12, 6))\n",
    "plt.barh(range(len(sorted_idx)), feature_importances[sorted_idx], align='center')\n",
    "plt.yticks(range(len(sorted_idx)), np.array(X_test.columns)[sorted_idx])\n",
    "plt.title('Feature Importance')"
   ]
  },
  {
   "cell_type": "code",
   "execution_count": 139,
   "metadata": {},
   "outputs": [],
   "source": [
    "explainer = shap.TreeExplainer(rf_model, feature_names=numerical_features)"
   ]
  },
  {
   "cell_type": "code",
   "execution_count": 122,
   "metadata": {},
   "outputs": [],
   "source": [
    "feature_values = rf_pipeline.named_steps[\"scaler\"].transform(X_train)\n",
    "explanation = explainer(feature_values)\n",
    "shap_values = explainer.shap_values(feature_values)"
   ]
  },
  {
   "cell_type": "code",
   "execution_count": null,
   "metadata": {},
   "outputs": [],
   "source": [
    "explainer.expected_value"
   ]
  },
  {
   "cell_type": "code",
   "execution_count": null,
   "metadata": {},
   "outputs": [],
   "source": [
    "shap.plots.beeswarm(explanation[:,:,1], show=True)"
   ]
  },
  {
   "cell_type": "code",
   "execution_count": null,
   "metadata": {},
   "outputs": [],
   "source": [
    "explainer.expected_value[1]"
   ]
  },
  {
   "cell_type": "code",
   "execution_count": 149,
   "metadata": {},
   "outputs": [],
   "source": [
    "id = 0"
   ]
  },
  {
   "cell_type": "code",
   "execution_count": null,
   "metadata": {},
   "outputs": [],
   "source": [
    "shap.plots.force(explainer.expected_value[1], shap_values[id][:,1], X_train.iloc[id:id+1])"
   ]
  },
  {
   "cell_type": "code",
   "execution_count": null,
   "metadata": {},
   "outputs": [],
   "source": [
    "shap.plots.waterfall(explanation[0,:,1])"
   ]
  },
  {
   "cell_type": "code",
   "execution_count": null,
   "metadata": {},
   "outputs": [],
   "source": [
    "shap.summary_plot(shap_values=shap_values[..., 1], features=X_test, plot_type='bar', max_display=10, plot_size=0.25)"
   ]
  }
 ],
 "metadata": {
  "kernelspec": {
   "display_name": "uni",
   "language": "python",
   "name": "python3"
  },
  "language_info": {
   "codemirror_mode": {
    "name": "ipython",
    "version": 3
   },
   "file_extension": ".py",
   "mimetype": "text/x-python",
   "name": "python",
   "nbconvert_exporter": "python",
   "pygments_lexer": "ipython3",
   "version": "3.11.8"
  }
 },
 "nbformat": 4,
 "nbformat_minor": 2
}
